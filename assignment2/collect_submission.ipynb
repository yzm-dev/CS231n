{
 "cells": [
  {
   "cell_type": "markdown",
   "metadata": {},
   "source": [
    "# Collect Submission - Zip + Generate PDF \n",
    "\n",
    "Run this notebook once you have completed all the other notebooks: `FullyConnectedNets.ipynb`, `BatchNormalization.ipynb`, `Dropout.ipynb`, `ConvolutionalNetworks.ipynb`, `PyTorch.ipynb`).\n",
    "\n",
    "It will:\n",
    "\n",
    "* Generate a zip file of your code (`.py` and `.ipynb`) called `a2_code_submission.zip`.\n",
    "* Convert all notebooks into a single PDF file called `a2_inline_submission.pdf`.\n",
    "\n",
    "If your submission for this step was successful, you should see the following display message:\n",
    "\n",
    "`### Done! Please submit a2_code_submission.zip and the a2_inline_submission.pdf to Gradescope. ###`\n",
    "\n",
    "Make sure to download the zip and pdf file locally to your computer, then submit to Gradescope. Congrats on succesfully completing the assignment!"
   ]
  },
  {
   "cell_type": "code",
   "execution_count": 1,
   "metadata": {},
   "outputs": [
    {
     "name": "stdout",
     "output_type": "stream",
     "text": [
      "Looking in indexes: https://pypi.tuna.tsinghua.edu.cn/simple\n",
      "Collecting PyPDF2\n",
      "  Downloading https://pypi.tuna.tsinghua.edu.cn/packages/8e/5e/c86a5643653825d3c913719e788e41386bee415c2b87b4f955432f2de6b2/pypdf2-3.0.1-py3-none-any.whl (232 kB)\n",
      "\u001b[2K     \u001b[90m━━━━━━━━━━━━━━━━━━━━━━━━━━━━━━━━━━━━━━━\u001b[0m \u001b[32m232.6/232.6 kB\u001b[0m \u001b[31m2.6 MB/s\u001b[0m eta \u001b[36m0:00:00\u001b[0ma \u001b[36m0:00:01\u001b[0m\n",
      "\u001b[?25hRequirement already satisfied: typing_extensions>=3.10.0.0 in /root/miniconda3/envs/dl_hw2/lib/python3.8/site-packages (from PyPDF2) (4.8.0)\n",
      "Installing collected packages: PyPDF2\n",
      "Successfully installed PyPDF2-3.0.1\n",
      "\u001b[33mWARNING: Running pip as the 'root' user can result in broken permissions and conflicting behaviour with the system package manager. It is recommended to use a virtual environment instead: https://pip.pypa.io/warnings/venv\u001b[0m\u001b[33m\n",
      "\u001b[0m### Zipping file ###\n",
      "### Creating PDFs ###\n",
      "Created PDF FullyConnectedNets.ipynb.\n",
      "Created PDF BatchNormalization.ipynb.\n",
      "Created PDF Dropout.ipynb.\n",
      "Created PDF ConvolutionalNetworks.ipynb.\n",
      "Created PDF PyTorch.ipynb.\n",
      "### Done! Please submit a2_code_submission.zip and a2_inline_submission.pdf to Gradescope. ###\n"
     ]
    }
   ],
   "source": [
    "# %cd drive/My\\ Drive/$FOLDERNAME\n",
    "# !sudo apt-get update\n",
    "# !sudo apt-get install texlive-xetex texlive-fonts-recommended texlive-plain-generic\n",
    "!pip install PyPDF2\n",
    "!bash collectSubmission.sh"
   ]
  }
 ],
 "metadata": {
  "kernelspec": {
   "display_name": "Python 3",
   "language": "python",
   "name": "python3"
  },
  "language_info": {
   "codemirror_mode": {
    "name": "ipython",
    "version": 3
   },
   "file_extension": ".py",
   "mimetype": "text/x-python",
   "name": "python",
   "nbconvert_exporter": "python",
   "pygments_lexer": "ipython3",
   "version": "3.8.18"
  }
 },
 "nbformat": 4,
 "nbformat_minor": 4
}
